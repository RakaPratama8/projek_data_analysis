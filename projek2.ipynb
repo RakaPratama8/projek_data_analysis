{
 "cells": [
  {
   "cell_type": "code",
   "execution_count": null,
   "metadata": {},
   "outputs": [],
   "source": [
    "import pandas as pd\n",
    "import streamlit as st\n",
    "import seaborn as sns\n",
    "import matplotlib.pyplot as plt\n",
    "# from babel.numbers import format_currency\n",
    "# sns.set(style=\"dark\")"
   ]
  },
  {
   "cell_type": "code",
   "execution_count": null,
   "metadata": {},
   "outputs": [],
   "source": [
    "df_Aotizhongxin = pd.read_csv(\"PRSA_Data_Aotizhongxin_20130301-20170228.csv\")\n",
    "df_Changping = pd.read_csv(\"PRSA_Data_Changping_20130301-20170228.csv\")\n",
    "df_Dingling = pd.read_csv(\"PRSA_Data_Dingling_20130301-20170228.csv\")\n",
    "df_Dongsi = pd.read_csv(\"PRSA_Data_Dongsi_20130301-20170228.csv\")\n",
    "df_Guanyuan = pd.read_csv(\"PRSA_Data_Guanyuan_20130301-20170228.csv\")\n",
    "df_Gucheng = pd.read_csv(\"PRSA_Data_Gucheng_20130301-20170228.csv\")\n",
    "df_Huairou = pd.read_csv(\"PRSA_Data_Huairou_20130301-20170228.csv\")\n",
    "df_Nongzhanguan = pd.read_csv(\"PRSA_Data_Nongzhanguan_20130301-20170228.csv\")\n",
    "df_Shunyi = pd.read_csv(\"PRSA_Data_Shunyi_20130301-20170228.csv\")\n",
    "df_Tiantan = pd.read_csv(\"PRSA_Data_Tiantan_20130301-20170228.csv\")\n",
    "df_Wanliu = pd.read_csv(\"PRSA_Data_Wanliu_20130301-20170228.csv\")\n",
    "df_Wanshouxigong = pd.read_csv(\"PRSA_Data_Wanshouxigong_20130301-20170228.csv\")"
   ]
  },
  {
   "cell_type": "code",
   "execution_count": null,
   "metadata": {},
   "outputs": [],
   "source": [
    "dfs = [\n",
    "    df_Aotizhongxin, df_Changping, df_Dingling, df_Dongsi, df_Guanyuan, df_Gucheng, df_Huairou, df_Nongzhanguan, df_Shunyi, df_Tiantan, df_Wanliu, df_Wanshouxigong\n",
    "]\n",
    "all_df = pd.concat(dfs, ignore_index=True, sort=False)"
   ]
  },
  {
   "cell_type": "code",
   "execution_count": null,
   "metadata": {},
   "outputs": [],
   "source": [
    "all_df[\"station\"].value_counts()"
   ]
  },
  {
   "cell_type": "code",
   "execution_count": null,
   "metadata": {},
   "outputs": [],
   "source": [
    "all_df.info()"
   ]
  },
  {
   "cell_type": "code",
   "execution_count": null,
   "metadata": {},
   "outputs": [],
   "source": [
    "all_df.isna().sum()"
   ]
  },
  {
   "cell_type": "code",
   "execution_count": null,
   "metadata": {},
   "outputs": [],
   "source": [
    "print(f\"Data Duplikat: {all_df.duplicated().sum()}\")\n",
    "all_df.describe()"
   ]
  },
  {
   "cell_type": "code",
   "execution_count": null,
   "metadata": {},
   "outputs": [],
   "source": [
    "all_df.drop_duplicates(inplace=True)"
   ]
  },
  {
   "cell_type": "markdown",
   "metadata": {},
   "source": [
    "# CO"
   ]
  },
  {
   "cell_type": "code",
   "execution_count": null,
   "metadata": {},
   "outputs": [],
   "source": [
    "all_df[\"CO\"].isna().sum()"
   ]
  },
  {
   "cell_type": "code",
   "execution_count": null,
   "metadata": {},
   "outputs": [],
   "source": [
    "all_df[\"CO\"].describe()"
   ]
  },
  {
   "cell_type": "code",
   "execution_count": null,
   "metadata": {},
   "outputs": [],
   "source": [
    "plt.plot(all_df[\"CO\"])\n",
    "plt.show()"
   ]
  },
  {
   "cell_type": "code",
   "execution_count": null,
   "metadata": {},
   "outputs": [],
   "source": [
    "all_df[\"CO\"].value_counts()"
   ]
  },
  {
   "cell_type": "code",
   "execution_count": null,
   "metadata": {},
   "outputs": [],
   "source": [
    "q1, q3 = all_df[\"CO\"].quantile(0.25), all_df[\"CO\"].quantile(0.75)\n",
    "iqr = q3 - q1\n",
    "\n",
    "maximum = q3 + (1.5*iqr)\n",
    "minimum = q1 - (1.5*iqr)\n",
    "\n",
    "lower = all_df[\"CO\"] < minimum\n",
    "higher = all_df[\"CO\"] > maximum\n",
    "\n",
    "# print(maximum)\n",
    "# print(minimum)\n",
    "\n",
    "all_df[\"CO\"].mask(higher, maximum, inplace=True)"
   ]
  },
  {
   "cell_type": "code",
   "execution_count": null,
   "metadata": {},
   "outputs": [],
   "source": [
    "# all_df[\"PM10\"].fillna(value=all_df[\"PM10\"].mean(), inplace=True)\n",
    "all_df[\"CO\"].interpolate(method=\"linear\", limit_direction=\"forward\", inplace=True)"
   ]
  },
  {
   "cell_type": "markdown",
   "metadata": {},
   "source": [
    "# PM2.5"
   ]
  },
  {
   "cell_type": "code",
   "execution_count": null,
   "metadata": {},
   "outputs": [],
   "source": [
    "all_df[\"PM2.5\"].isna().sum()"
   ]
  },
  {
   "cell_type": "code",
   "execution_count": null,
   "metadata": {},
   "outputs": [],
   "source": [
    "all_df[\"PM2.5\"].describe()"
   ]
  },
  {
   "cell_type": "code",
   "execution_count": null,
   "metadata": {},
   "outputs": [],
   "source": [
    "all_df[\"PM2.5\"].value_counts()"
   ]
  },
  {
   "cell_type": "code",
   "execution_count": null,
   "metadata": {},
   "outputs": [],
   "source": [
    "q1, q3 = all_df[\"PM2.5\"].quantile(0.25), all_df[\"PM2.5\"].quantile(0.75)\n",
    "iqr = q3 - q1\n",
    "\n",
    "maximum = q3 + (1.5*iqr)\n",
    "minimum = q1 - (1.5*iqr)\n",
    "\n",
    "lower = all_df[\"PM2.5\"] < minimum\n",
    "higher = all_df[\"PM2.5\"] > maximum\n",
    "\n",
    "all_df[\"PM2.5\"].mask(higher, maximum, inplace=True)"
   ]
  },
  {
   "cell_type": "code",
   "execution_count": null,
   "metadata": {},
   "outputs": [],
   "source": [
    "# all_df[\"PM10\"].fillna(value=all_df[\"PM10\"].mean(), inplace=True)\n",
    "all_df[\"PM2.5\"].interpolate(method=\"linear\", limit_direction=\"forward\", inplace=True)"
   ]
  },
  {
   "cell_type": "markdown",
   "metadata": {},
   "source": [
    "# PM10"
   ]
  },
  {
   "cell_type": "code",
   "execution_count": null,
   "metadata": {},
   "outputs": [],
   "source": [
    "all_df[\"PM10\"].isna().sum()"
   ]
  },
  {
   "cell_type": "code",
   "execution_count": null,
   "metadata": {},
   "outputs": [],
   "source": [
    "all_df[\"PM10\"].describe()"
   ]
  },
  {
   "cell_type": "code",
   "execution_count": null,
   "metadata": {},
   "outputs": [],
   "source": [
    "all_df[\"PM10\"].value_counts(ascending=False).head(100)"
   ]
  },
  {
   "cell_type": "code",
   "execution_count": null,
   "metadata": {},
   "outputs": [],
   "source": [
    "plt.plot(all_df[\"PM10\"])\n",
    "plt.show()"
   ]
  },
  {
   "cell_type": "code",
   "execution_count": null,
   "metadata": {},
   "outputs": [],
   "source": [
    "q1, q3 = all_df[\"PM10\"].quantile(0.25), all_df[\"PM10\"].quantile(0.75)\n",
    "iqr = q3 - q1\n",
    "\n",
    "maximum = q3 + (1.5*iqr)\n",
    "minimum = q1 - (1.5*iqr)\n",
    "\n",
    "lower = all_df[\"PM10\"] < minimum\n",
    "higher = all_df[\"PM10\"] > maximum\n",
    "\n",
    "all_df[\"PM10\"].mask(higher, maximum, inplace=True)"
   ]
  },
  {
   "cell_type": "code",
   "execution_count": null,
   "metadata": {},
   "outputs": [],
   "source": [
    "# all_df[\"PM10\"].fillna(value=all_df[\"PM10\"].mean(), inplace=True)\n",
    "all_df[\"PM10\"].interpolate(method=\"linear\", limit_direction=\"forward\", inplace=True)"
   ]
  },
  {
   "cell_type": "markdown",
   "metadata": {},
   "source": [
    "# SO2"
   ]
  },
  {
   "cell_type": "code",
   "execution_count": null,
   "metadata": {},
   "outputs": [],
   "source": [
    "all_df[\"SO2\"].isna().sum()"
   ]
  },
  {
   "cell_type": "code",
   "execution_count": null,
   "metadata": {},
   "outputs": [],
   "source": [
    "all_df[\"SO2\"].describe()"
   ]
  },
  {
   "cell_type": "code",
   "execution_count": null,
   "metadata": {},
   "outputs": [],
   "source": [
    "plt.plot(all_df[\"SO2\"])\n",
    "plt.show()"
   ]
  },
  {
   "cell_type": "code",
   "execution_count": null,
   "metadata": {},
   "outputs": [],
   "source": [
    "q1, q3 = all_df[\"SO2\"].quantile(0.25), all_df[\"SO2\"].quantile(0.75)\n",
    "iqr = q3 - q1\n",
    "\n",
    "maximum = q3 + (1.5*iqr)\n",
    "minimum = q1 - (1.5*iqr)\n",
    "\n",
    "lower = all_df[\"SO2\"] < minimum\n",
    "higher = all_df[\"SO2\"] > maximum\n",
    "\n",
    "all_df[\"SO2\"].mask(higher, maximum, inplace=True)"
   ]
  },
  {
   "cell_type": "code",
   "execution_count": null,
   "metadata": {},
   "outputs": [],
   "source": [
    "# all_df[\"PM10\"].fillna(value=all_df[\"PM10\"].mean(), inplace=True)\n",
    "all_df[\"SO2\"].interpolate(method=\"linear\", limit_direction=\"forward\", inplace=True)"
   ]
  },
  {
   "cell_type": "markdown",
   "metadata": {},
   "source": [
    "# NO2"
   ]
  },
  {
   "cell_type": "code",
   "execution_count": null,
   "metadata": {},
   "outputs": [],
   "source": [
    "all_df[\"NO2\"].isna().sum()"
   ]
  },
  {
   "cell_type": "code",
   "execution_count": null,
   "metadata": {},
   "outputs": [],
   "source": [
    "all_df[\"NO2\"].describe()"
   ]
  },
  {
   "cell_type": "code",
   "execution_count": null,
   "metadata": {},
   "outputs": [],
   "source": [
    "all_df[\"NO2\"].value_counts()"
   ]
  },
  {
   "cell_type": "code",
   "execution_count": null,
   "metadata": {},
   "outputs": [],
   "source": [
    "plt.plot(all_df[\"NO2\"])\n",
    "plt.show()"
   ]
  },
  {
   "cell_type": "code",
   "execution_count": null,
   "metadata": {},
   "outputs": [],
   "source": [
    "q1, q3 = all_df[\"NO2\"].quantile(0.25), all_df[\"NO2\"].quantile(0.75)\n",
    "iqr = q3 - q1\n",
    "\n",
    "maximum = q3 + (1.5*iqr)\n",
    "minimum = q1 - (1.5*iqr)\n",
    "\n",
    "lower = all_df[\"NO2\"] < minimum\n",
    "higher = all_df[\"NO2\"] > maximum\n",
    "\n",
    "# print(maximum)\n",
    "# print(minimum)\n",
    "\n",
    "all_df[\"NO2\"].mask(higher, maximum, inplace=True)"
   ]
  },
  {
   "cell_type": "code",
   "execution_count": null,
   "metadata": {},
   "outputs": [],
   "source": [
    "# all_df[\"PM10\"].fillna(value=all_df[\"PM10\"].mean(), inplace=True)\n",
    "all_df[\"NO2\"].interpolate(method=\"linear\", limit_direction=\"forward\", inplace=True)"
   ]
  },
  {
   "cell_type": "markdown",
   "metadata": {},
   "source": [
    "# CO"
   ]
  },
  {
   "cell_type": "code",
   "execution_count": null,
   "metadata": {},
   "outputs": [],
   "source": [
    "all_df[\"CO\"].isna().sum()"
   ]
  },
  {
   "cell_type": "code",
   "execution_count": null,
   "metadata": {},
   "outputs": [],
   "source": [
    "all_df[\"CO\"].describe()"
   ]
  },
  {
   "cell_type": "code",
   "execution_count": null,
   "metadata": {},
   "outputs": [],
   "source": [
    "plt.plot(all_df[\"CO\"])\n",
    "plt.show()"
   ]
  },
  {
   "cell_type": "code",
   "execution_count": null,
   "metadata": {},
   "outputs": [],
   "source": [
    "all_df[\"CO\"].value_counts()"
   ]
  },
  {
   "cell_type": "code",
   "execution_count": null,
   "metadata": {},
   "outputs": [],
   "source": [
    "q1, q3 = all_df[\"CO\"].quantile(0.25), all_df[\"CO\"].quantile(0.75)\n",
    "iqr = q3 - q1\n",
    "\n",
    "maximum = q3 + (1.5*iqr)\n",
    "minimum = q1 - (1.5*iqr)\n",
    "\n",
    "lower = all_df[\"CO\"] < minimum\n",
    "higher = all_df[\"CO\"] > maximum\n",
    "\n",
    "# print(maximum)\n",
    "# print(minimum)\n",
    "\n",
    "all_df[\"CO\"].mask(higher, maximum, inplace=True)"
   ]
  },
  {
   "cell_type": "code",
   "execution_count": null,
   "metadata": {},
   "outputs": [],
   "source": [
    "# all_df[\"PM10\"].fillna(value=all_df[\"PM10\"].mean(), inplace=True)\n",
    "all_df[\"CO\"].interpolate(method=\"linear\", limit_direction=\"forward\", inplace=True)"
   ]
  },
  {
   "cell_type": "markdown",
   "metadata": {},
   "source": [
    "# TEMP"
   ]
  },
  {
   "cell_type": "code",
   "execution_count": null,
   "metadata": {},
   "outputs": [],
   "source": [
    "all_df[\"TEMP\"].isna().sum()"
   ]
  },
  {
   "cell_type": "code",
   "execution_count": null,
   "metadata": {},
   "outputs": [],
   "source": [
    "all_df[\"TEMP\"].describe()"
   ]
  },
  {
   "cell_type": "code",
   "execution_count": null,
   "metadata": {},
   "outputs": [],
   "source": [
    "plt.plot(all_df[\"TEMP\"])\n",
    "plt.show()"
   ]
  },
  {
   "cell_type": "code",
   "execution_count": null,
   "metadata": {},
   "outputs": [],
   "source": [
    "all_df[\"TEMP\"].value_counts()"
   ]
  },
  {
   "cell_type": "code",
   "execution_count": null,
   "metadata": {},
   "outputs": [],
   "source": [
    "q1, q3 = all_df[\"TEMP\"].quantile(0.25), all_df[\"TEMP\"].quantile(0.75)\n",
    "iqr = q3 - q1\n",
    "\n",
    "maximum = q3 + (1.5*iqr)\n",
    "minimum = q1 - (1.5*iqr)\n",
    "\n",
    "lower = all_df[\"TEMP\"] < minimum\n",
    "higher = all_df[\"TEMP\"] > maximum\n",
    "\n",
    "print(maximum)\n",
    "print(minimum)\n",
    "\n",
    "all_df[\"TEMP\"].mask(higher, maximum, inplace=True)\n",
    "all_df[\"TEMP\"].mask(lower, minimum, inplace=True)"
   ]
  },
  {
   "cell_type": "code",
   "execution_count": null,
   "metadata": {},
   "outputs": [],
   "source": [
    "# all_df[\"PM10\"].fillna(value=all_df[\"PM10\"].mean(), inplace=True)\n",
    "all_df[\"TEMP\"].interpolate(method=\"linear\", limit_direction=\"forward\", inplace=True)"
   ]
  },
  {
   "cell_type": "markdown",
   "metadata": {},
   "source": [
    "# PRES"
   ]
  },
  {
   "cell_type": "code",
   "execution_count": null,
   "metadata": {},
   "outputs": [],
   "source": [
    "all_df[\"PRES\"].isna().sum()"
   ]
  },
  {
   "cell_type": "code",
   "execution_count": null,
   "metadata": {},
   "outputs": [],
   "source": [
    "all_df[\"PRES\"].describe()"
   ]
  },
  {
   "cell_type": "code",
   "execution_count": null,
   "metadata": {},
   "outputs": [],
   "source": [
    "plt.plot(all_df[\"PRES\"])\n",
    "plt.show()"
   ]
  },
  {
   "cell_type": "code",
   "execution_count": null,
   "metadata": {},
   "outputs": [],
   "source": [
    "all_df[\"PRES\"].value_counts()"
   ]
  },
  {
   "cell_type": "code",
   "execution_count": null,
   "metadata": {},
   "outputs": [],
   "source": [
    "sns.boxplot(all_df[\"PRES\"],)"
   ]
  },
  {
   "cell_type": "code",
   "execution_count": null,
   "metadata": {},
   "outputs": [],
   "source": [
    "q1, q3 = all_df[\"PRES\"].quantile(0.25), all_df[\"PRES\"].quantile(0.75)\n",
    "iqr = q3 - q1\n",
    "\n",
    "maximum = q3 + (1.5*iqr)\n",
    "minimum = q1 - (1.5*iqr)\n",
    "\n",
    "lower = all_df[\"PRES\"] < minimum\n",
    "higher = all_df[\"PRES\"] > maximum\n",
    "\n",
    "# print(maximum)\n",
    "# print(minimum)\n",
    "\n",
    "all_df[\"PRES\"].mask(higher, maximum, inplace=True)\n",
    "all_df[\"PRES\"].mask(lower, minimum, inplace=True)"
   ]
  },
  {
   "cell_type": "code",
   "execution_count": null,
   "metadata": {},
   "outputs": [],
   "source": [
    "# all_df[\"PM10\"].fillna(value=all_df[\"PM10\"].mean(), inplace=True)\n",
    "all_df[\"PRES\"].interpolate(method=\"linear\", limit_direction=\"forward\", inplace=True)"
   ]
  },
  {
   "cell_type": "markdown",
   "metadata": {},
   "source": [
    "# DEWP"
   ]
  },
  {
   "cell_type": "code",
   "execution_count": null,
   "metadata": {},
   "outputs": [],
   "source": [
    "all_df[\"DEWP\"].isna().sum()"
   ]
  },
  {
   "cell_type": "code",
   "execution_count": null,
   "metadata": {},
   "outputs": [],
   "source": [
    "all_df[\"DEWP\"].describe()"
   ]
  },
  {
   "cell_type": "code",
   "execution_count": null,
   "metadata": {},
   "outputs": [],
   "source": [
    "plt.plot(all_df[\"DEWP\"])\n",
    "plt.show()"
   ]
  },
  {
   "cell_type": "code",
   "execution_count": null,
   "metadata": {},
   "outputs": [],
   "source": [
    "all_df[\"DEWP\"].value_counts()"
   ]
  },
  {
   "cell_type": "code",
   "execution_count": null,
   "metadata": {},
   "outputs": [],
   "source": [
    "q1, q3 = all_df[\"DEWP\"].quantile(0.25), all_df[\"DEWP\"].quantile(0.75)\n",
    "iqr = q3 - q1\n",
    "\n",
    "maximum = q3 + (1.5*iqr)\n",
    "minimum = q1 - (1.5*iqr)\n",
    "\n",
    "lower = all_df[\"DEWP\"] < minimum\n",
    "higher = all_df[\"DEWP\"] > maximum\n",
    "\n",
    "# print(maximum)\n",
    "# print(minimum)\n",
    "\n",
    "all_df[\"DEWP\"].mask(higher, maximum, inplace=True)\n",
    "all_df[\"DEWP\"].mask(lower, minimum, inplace=True)"
   ]
  },
  {
   "cell_type": "code",
   "execution_count": null,
   "metadata": {},
   "outputs": [],
   "source": [
    "# all_df[\"PM10\"].fillna(value=all_df[\"PM10\"].mean(), inplace=True)\n",
    "all_df[\"DEWP\"].interpolate(method=\"linear\", limit_direction=\"forward\", inplace=True)"
   ]
  },
  {
   "cell_type": "markdown",
   "metadata": {},
   "source": [
    "# RAIN"
   ]
  },
  {
   "cell_type": "code",
   "execution_count": null,
   "metadata": {},
   "outputs": [],
   "source": [
    "all_df[\"RAIN\"].isna().sum()"
   ]
  },
  {
   "cell_type": "code",
   "execution_count": null,
   "metadata": {},
   "outputs": [],
   "source": [
    "all_df[\"RAIN\"].describe()"
   ]
  },
  {
   "cell_type": "code",
   "execution_count": null,
   "metadata": {},
   "outputs": [],
   "source": [
    "station_rain_mean = all_df.groupby(\"station\", as_index=False).RAIN.mean()"
   ]
  },
  {
   "cell_type": "code",
   "execution_count": null,
   "metadata": {},
   "outputs": [],
   "source": [
    "station_rain_mean.head(100)"
   ]
  },
  {
   "cell_type": "code",
   "execution_count": null,
   "metadata": {},
   "outputs": [],
   "source": [
    "all_df[\"RAIN\"].value_counts().sort_values(ascending=False)"
   ]
  },
  {
   "cell_type": "code",
   "execution_count": null,
   "metadata": {},
   "outputs": [],
   "source": [
    "plt.plot(all_df[\"RAIN\"])\n",
    "plt.show()"
   ]
  },
  {
   "cell_type": "code",
   "execution_count": null,
   "metadata": {},
   "outputs": [],
   "source": [
    "all_df[\"RAIN\"].value_counts()"
   ]
  },
  {
   "cell_type": "code",
   "execution_count": null,
   "metadata": {},
   "outputs": [],
   "source": [
    "sns.boxplot(all_df[\"RAIN\"],)"
   ]
  },
  {
   "cell_type": "code",
   "execution_count": null,
   "metadata": {},
   "outputs": [],
   "source": [
    "q1, q3 = all_df[\"RAIN\"].quantile(0.25), all_df[\"RAIN\"].quantile(0.75)\n",
    "iqr = q3 - q1\n",
    "\n",
    "maximum = q3 + (1.5*iqr)\n",
    "minimum = q1 - (1.5*iqr)\n",
    "\n",
    "lower = all_df[\"RAIN\"] < minimum\n",
    "higher = all_df[\"RAIN\"] > maximum\n",
    "\n",
    "print(maximum)\n",
    "print(minimum)\n",
    "\n",
    "# all_df[\"RAIN\"].mask(higher, maximum, inplace=True)\n",
    "# all_df[\"RAIN\"].mask(lower, minimum, inplace=True)"
   ]
  },
  {
   "cell_type": "code",
   "execution_count": null,
   "metadata": {},
   "outputs": [],
   "source": [
    "# all_df[\"PM10\"].fillna(value=all_df[\"PM10\"].mean(), inplace=True)\n",
    "all_df[\"RAIN\"].interpolate(method=\"linear\", limit_direction=\"forward\", inplace=True)"
   ]
  },
  {
   "cell_type": "markdown",
   "metadata": {},
   "source": [
    "# wd"
   ]
  },
  {
   "cell_type": "code",
   "execution_count": null,
   "metadata": {},
   "outputs": [],
   "source": [
    "all_df[\"wd\"].isna().sum()"
   ]
  },
  {
   "cell_type": "code",
   "execution_count": null,
   "metadata": {},
   "outputs": [],
   "source": [
    "all_df[\"wd\"].value_counts()"
   ]
  },
  {
   "cell_type": "code",
   "execution_count": null,
   "metadata": {},
   "outputs": [],
   "source": [
    "new_wd = {\n",
    "    \"ENE\" : \"NE\",\n",
    "    \"NNE\" : \"NE\",\n",
    "    \"NNW\" : \"NW\",\n",
    "    \"WNW\" : \"NW\",\n",
    "    \"ESE\" : \"SE\",\n",
    "    \"SSW\" : \"SW\",\n",
    "    \"WSW\" : \"SW\",\n",
    "    \"SSE\" : \"SE\",\n",
    "}\n",
    "\n",
    "def replace_new_wd(wd):\n",
    "    return new_wd.get(wd, wd)\n",
    "\n",
    "all_df[\"wd\"] = all_df[\"wd\"].apply(replace_new_wd)"
   ]
  },
  {
   "cell_type": "code",
   "execution_count": null,
   "metadata": {},
   "outputs": [],
   "source": [
    "all_df[\"wd\"].describe(include=\"all\")"
   ]
  },
  {
   "cell_type": "code",
   "execution_count": null,
   "metadata": {},
   "outputs": [],
   "source": [
    "all_df[\"wd\"].fillna(value=\"undefined\", inplace=True)"
   ]
  },
  {
   "cell_type": "markdown",
   "metadata": {},
   "source": [
    "# WSPM"
   ]
  },
  {
   "cell_type": "code",
   "execution_count": null,
   "metadata": {},
   "outputs": [],
   "source": [
    "all_df[\"WSPM\"].isna().sum()"
   ]
  },
  {
   "cell_type": "code",
   "execution_count": null,
   "metadata": {},
   "outputs": [],
   "source": [
    "all_df[\"WSPM\"].describe()"
   ]
  },
  {
   "cell_type": "code",
   "execution_count": null,
   "metadata": {},
   "outputs": [],
   "source": [
    "plt.plot(all_df[\"WSPM\"])\n",
    "plt.show()"
   ]
  },
  {
   "cell_type": "code",
   "execution_count": null,
   "metadata": {},
   "outputs": [],
   "source": [
    "all_df[all_df[\"WSPM\"] == 0.0].value_counts().sum()"
   ]
  },
  {
   "cell_type": "code",
   "execution_count": null,
   "metadata": {},
   "outputs": [],
   "source": [
    "q1, q3 = all_df[\"WSPM\"].quantile(0.25), all_df[\"WSPM\"].quantile(0.75)\n",
    "iqr = q3 - q1\n",
    "\n",
    "maximum = q3 + (1.5*iqr)\n",
    "minimum = q1 - (1.5*iqr)\n",
    "\n",
    "lower = all_df[\"WSPM\"] < minimum\n",
    "higher = all_df[\"WSPM\"] > maximum\n",
    "\n",
    "# print(maximum)\n",
    "# print(minimum)\n",
    "\n",
    "all_df[\"WSPM\"].mask(higher, maximum, inplace=True)\n",
    "all_df[\"WSPM\"].mask(lower, minimum, inplace=True)"
   ]
  }
 ],
 "metadata": {
  "kernelspec": {
   "display_name": "Python 3",
   "language": "python",
   "name": "python3"
  },
  "language_info": {
   "codemirror_mode": {
    "name": "ipython",
    "version": 3
   },
   "file_extension": ".py",
   "mimetype": "text/x-python",
   "name": "python",
   "nbconvert_exporter": "python",
   "pygments_lexer": "ipython3",
   "version": "3.9.13"
  }
 },
 "nbformat": 4,
 "nbformat_minor": 2
}
