{
 "cells": [
  {
   "cell_type": "markdown",
   "metadata": {},
   "source": [
    "<h1>Projek Data Analisis Python</h1>\n",
    "<h5>Nama : Muhamad Raka Pratama</h5>\n",
    "<h5>Asal : Depok</h5>\n",
    "<h5>Dataset : Air Quality dataset</h5>"
   ]
  },
  {
   "cell_type": "code",
   "execution_count": null,
   "metadata": {},
   "outputs": [],
   "source": [
    "import pandas as pd\n",
    "import streamlit as st\n",
    "import seaborn as sns\n",
    "import matplotlib.pyplot as plt\n",
    "# from babel.numbers import format_currency\n",
    "# sns.set(style=\"dark\")"
   ]
  },
  {
   "cell_type": "markdown",
   "metadata": {},
   "source": [
    "## Data Wrangling"
   ]
  },
  {
   "cell_type": "code",
   "execution_count": null,
   "metadata": {},
   "outputs": [],
   "source": [
    "df_guanyuan = pd.read_csv(\"PRSA_Data_Guanyuan_20130301-20170228.csv\")\n",
    "\n",
    "df_guanyuan.head(5)"
   ]
  },
  {
   "cell_type": "code",
   "execution_count": null,
   "metadata": {},
   "outputs": [],
   "source": [
    "df_guanyuan.isna().sum()"
   ]
  },
  {
   "cell_type": "markdown",
   "metadata": {},
   "source": [
    "<h4>Penjelasan</h4>\n",
    "<p>Dataset memiliki beberapa missing value, diantaranya: </p>\n",
    "<ul>\n",
    "    <li>PM2.5 = 616</li>\n",
    "    <li>PM10 = 429</li>\n",
    "    <li>SO2 = 474</li>\n",
    "    <li>NO2 = 659</li>\n",
    "    <li>CO = 1753</li>\n",
    "    <li>O3 = 1173</li>\n",
    "    <li>TEMP = 20</li>\n",
    "    <li>PRES = 20</li>\n",
    "    <li>DEWP = 20</li>\n",
    "    <li>RAIN = 20</li>\n",
    "    <li>wd = 20</li>\n",
    "    <li>WSPM = 14</li>\n",
    "</ul>"
   ]
  },
  {
   "cell_type": "code",
   "execution_count": null,
   "metadata": {},
   "outputs": [],
   "source": [
    "print(f\"Data Duplikat = {df_guanyuan.duplicated().sum()}\")\n",
    "df_guanyuan.describe()"
   ]
  },
  {
   "cell_type": "code",
   "execution_count": null,
   "metadata": {},
   "outputs": [],
   "source": [
    "df_guanyuan.info()"
   ]
  },
  {
   "cell_type": "markdown",
   "metadata": {},
   "source": [
    "Kolom PM2.5"
   ]
  },
  {
   "cell_type": "code",
   "execution_count": null,
   "metadata": {},
   "outputs": [],
   "source": [
    "df_guanyuan[\"PM2.5\"].describe()"
   ]
  },
  {
   "cell_type": "code",
   "execution_count": null,
   "metadata": {},
   "outputs": [],
   "source": [
    "df_guanyuan[df_guanyuan[\"PM2.5\"].isna()]"
   ]
  },
  {
   "cell_type": "code",
   "execution_count": null,
   "metadata": {},
   "outputs": [],
   "source": [
    "df_guanyuan[\"PM2.5\"].isna().sum()"
   ]
  },
  {
   "cell_type": "code",
   "execution_count": null,
   "metadata": {},
   "outputs": [],
   "source": [
    "df_guanyuan[\"PM2.5\"].value_counts().sort_values(ascending=False)"
   ]
  },
  {
   "cell_type": "code",
   "execution_count": null,
   "metadata": {},
   "outputs": [],
   "source": [
    "q1, q3 = df_guanyuan[\"PM2.5\"].quantile(0.25), df_guanyuan[\"PM2.5\"].quantile(0.75)\n",
    "iqr = q3 - q1\n",
    "\n",
    "maximum = q3 + (1.5*iqr)\n",
    "minimum = q1 - (1.5*iqr)\n",
    "\n",
    "lower = df_guanyuan[\"PM2.5\"] < minimum\n",
    "higher = df_guanyuan[\"PM2.5\"] > maximum\n",
    "\n",
    "df_guanyuan[\"PM2.5\"].mask(higher, maximum, inplace=True)"
   ]
  },
  {
   "cell_type": "code",
   "execution_count": null,
   "metadata": {},
   "outputs": [],
   "source": [
    "df_guanyuan[\"PM2.5\"].fillna(value=df_guanyuan[\"PM2.5\"].mean(), inplace=True)"
   ]
  },
  {
   "cell_type": "markdown",
   "metadata": {},
   "source": [
    "Kolom PM10"
   ]
  },
  {
   "cell_type": "code",
   "execution_count": null,
   "metadata": {},
   "outputs": [],
   "source": [
    "df_guanyuan[\"PM10\"].describe()"
   ]
  },
  {
   "cell_type": "code",
   "execution_count": null,
   "metadata": {},
   "outputs": [],
   "source": [
    "q1, q3 = df_guanyuan[\"PM10\"].quantile(0.25), df_guanyuan[\"PM10\"].quantile(0.75)\n",
    "iqr = q3 - q1\n",
    "\n",
    "maximum = q3 + (1.5*iqr)\n",
    "minimum = q1 - (1.5*iqr)\n",
    "\n",
    "lower = df_guanyuan[\"PM10\"] < minimum\n",
    "higher = df_guanyuan[\"PM10\"] > maximum"
   ]
  },
  {
   "cell_type": "code",
   "execution_count": null,
   "metadata": {},
   "outputs": [],
   "source": [
    "df_guanyuan[\"PM10\"].mask(higher, maximum, inplace=True)"
   ]
  },
  {
   "cell_type": "code",
   "execution_count": null,
   "metadata": {},
   "outputs": [],
   "source": [
    "df_guanyuan[\"PM10\"].fillna(value=df_guanyuan[\"PM10\"].mean(), inplace=True)"
   ]
  },
  {
   "cell_type": "code",
   "execution_count": null,
   "metadata": {},
   "outputs": [],
   "source": [
    "plt.plot(df_guanyuan[\"PM10\"])\n",
    "plt.show()"
   ]
  },
  {
   "cell_type": "markdown",
   "metadata": {},
   "source": [
    "Kolom SO2"
   ]
  },
  {
   "cell_type": "code",
   "execution_count": 19,
   "metadata": {},
   "outputs": [
    {
     "data": {
      "text/plain": [
       "count    34590.000000\n",
       "mean        17.590941\n",
       "std         23.600367\n",
       "min          1.000000\n",
       "25%          3.000000\n",
       "50%          8.000000\n",
       "75%         22.000000\n",
       "max        293.000000\n",
       "Name: SO2, dtype: float64"
      ]
     },
     "execution_count": 19,
     "metadata": {},
     "output_type": "execute_result"
    }
   ],
   "source": [
    "df_guanyuan[\"SO2\"].describe()"
   ]
  },
  {
   "cell_type": "code",
   "execution_count": 21,
   "metadata": {},
   "outputs": [
    {
     "data": {
      "image/png": "[encoded data removed]",
      "text/plain": [
       "<Figure size 640x480 with 1 Axes>"
      ]
     },
     "metadata": {},
     "output_type": "display_data"
    }
   ],
   "source": [
    "plt.plot(df_guanyuan[\"SO2\"])\n",
    "plt.show()"
   ]
  },
  {
   "cell_type": "code",
   "execution_count": 18,
   "metadata": {},
   "outputs": [
    {
     "data": {
      "text/plain": [
       "474"
      ]
     },
     "execution_count": 18,
     "metadata": {},
     "output_type": "execute_result"
    }
   ],
   "source": [
    "df_guanyuan[\"SO2\"].isna().sum()"
   ]
  },
  {
   "cell_type": "code",
   "execution_count": 20,
   "metadata": {},
   "outputs": [
    {
     "name": "stdout",
     "output_type": "stream",
     "text": [
      "50.5\n",
      "-25.5\n"
     ]
    }
   ],
   "source": [
    "q1, q3 = df_guanyuan[\"SO2\"].quantile(0.25), df_guanyuan[\"SO2\"].quantile(0.75)\n",
    "iqr = q3 - q1\n",
    "\n",
    "maximum = q3 + (1.5*iqr)\n",
    "minimum = q1 - (1.5*iqr)\n",
    "\n",
    "lower = df_guanyuan[\"SO2\"] < minimum\n",
    "higher = df_guanyuan[\"SO2\"] > maximum\n",
    "\n",
    "print(maximum)\n",
    "print(minimum)"
   ]
  }
 ],
 "metadata": {
  "kernelspec": {
   "display_name": "Python 3",
   "language": "python",
   "name": "python3"
  },
  "language_info": {
   "codemirror_mode": {
    "name": "ipython",
    "version": 3
   },
   "file_extension": ".py",
   "mimetype": "text/x-python",
   "name": "python",
   "nbconvert_exporter": "python",
   "pygments_lexer": "ipython3",
   "version": "3.9.13"
  }
 },
 "nbformat": 4,
 "nbformat_minor": 2
}
